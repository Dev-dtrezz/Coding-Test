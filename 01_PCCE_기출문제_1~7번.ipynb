{
  "nbformat": 4,
  "nbformat_minor": 0,
  "metadata": {
    "colab": {
      "provenance": [],
      "authorship_tag": "ABX9TyMblj803S4LeOYE8LnuoOYq"
    },
    "kernelspec": {
      "name": "python3",
      "display_name": "Python 3"
    },
    "language_info": {
      "name": "python"
    }
  },
  "cells": [
    {
      "cell_type": "markdown",
      "source": [
        "# 1번 / 출력\n",
        "문제 설명\n",
        "주어진 초기 코드는 변수에 데이터를 저장하고 출력하는 코드입니다. 아래와 같이 출력되도록 빈칸을 채워 코드를 완성해 주세요.\n",
        "\n",
        "출력 예시\n",
        "Spring is beginning\n",
        "13\n",
        "310"
      ],
      "metadata": {
        "id": "qLM6IcgCJ9iJ"
      }
    },
    {
      "cell_type": "code",
      "source": [
        "string_msg = \"Spring is beginning\"\n",
        "\n",
        "int_val = 3\n",
        "\n",
        "string_val = \"3\"\n",
        "\n",
        "\n",
        "print(string_msg)\n",
        "print(int_val + 10)\n",
        "print(string_val + \"10\")"
      ],
      "metadata": {
        "colab": {
          "base_uri": "https://localhost:8080/"
        },
        "id": "dWH0B9F5KEkp",
        "outputId": "d5c757a5-69d7-4353-8c75-bbe26a4f6502"
      },
      "execution_count": null,
      "outputs": [
        {
          "output_type": "stream",
          "name": "stdout",
          "text": [
            "Spring is beginning\n",
            "13\n",
            "310\n"
          ]
        }
      ]
    },
    {
      "cell_type": "markdown",
      "source": [
        "# 2번 / 피타고라스의 정리\n",
        "\n",
        "문제 설명\n",
        "직각삼각형이 주어졌을 때 빗변의 제곱은 다른 두 변을 각각 제곱한 것의 합과 같습니다.\n",
        "\n",
        "피타고라스.jpg\n",
        "\n",
        "직각삼각형의 한 변의 길이를 나타내는 정수 a와 빗변의 길이를 나타내는 정수 c가 주어질 때, 다른 한 변의 길이의 제곱, b_square 을 출력하도록 한 줄을 수정해 코드를 완성해 주세요.\n",
        "\n",
        "제한사항\n",
        "1 ≤ a < c ≤ 100\n",
        "입출력 예\n",
        "입력 #1\n",
        "\n",
        "3\n",
        "5\n",
        "출력 #1\n",
        "\n",
        "16\n",
        "입력 #2\n",
        "\n",
        "9\n",
        "10\n",
        "출력 #2\n",
        "\n",
        "19\n",
        "입출력 예 설명\n",
        "입출력 예 #1\n",
        "\n",
        "a2 = 9, c2 = 25 이므로 16을 출력합니다.\n",
        "입출력 예 #2\n",
        "\n",
        "a2 = 81, c2 = 100 이므로 19를 출력합니다."
      ],
      "metadata": {
        "id": "T6HDIDR9Kcij"
      }
    },
    {
      "cell_type": "code",
      "source": [
        "a = int(input())\n",
        "c = int(input())\n",
        "\n",
        "b_square= (c **2) - (a **2)\n",
        "print(b_square)"
      ],
      "metadata": {
        "colab": {
          "base_uri": "https://localhost:8080/"
        },
        "id": "_-mRyDWfKz07",
        "outputId": "7a2f627f-4577-46eb-e059-79eed602f456"
      },
      "execution_count": null,
      "outputs": [
        {
          "output_type": "stream",
          "name": "stdout",
          "text": [
            "3\n",
            "5\n",
            "16\n"
          ]
        }
      ]
    },
    {
      "cell_type": "markdown",
      "source": [
        "# 3번 / 나이계산\n",
        "\n",
        "문제 설명\n",
        "나이를 세는 방법은 여러 가지가 있습니다. 그중 한국식 나이는 태어난 순간 1살이 되며 해가 바뀔 때마다 1살씩 더 먹게 됩니다. 연 나이는 태어난 순간 0살이며 해가 바뀔 때마다 1살씩 더 먹게 됩니다. 각각 나이의 계산법은 다음과 같습니다.\n",
        "\n",
        "한국식 나이 : 현재 연도 - 출생 연도 + 1\n",
        "연 나이 : 현재 연도 - 출생 연도\n",
        "\n",
        "출생 연도를 나타내는 정수 year와 구하려는 나이의 종류를 나타내는 문자열 age_type이 주어질 때 2030년에 몇 살인지 출력하도록 빈칸을 채워 코드를 완성해 주세요. age_type이 \"Korea\"라면 한국식 나이를, \"Year\"라면 연 나이를 출력합니다.\n",
        "\n",
        "제한사항\n",
        "1950 ≤ year ≤ 2030\n",
        "age_type은 \"Korea\" 또는 \"Year\"만 주어집니다.\n",
        "입출력 예\n",
        "입력 #1\n",
        "\n",
        "2000\n",
        "Korea\n",
        "출력 #1\n",
        "\n",
        "31\n",
        "입력 #2\n",
        "\n",
        "1999\n",
        "Year\n",
        "출력 #2\n",
        "\n",
        "31\n",
        "입출력 예 설명\n",
        "입출력 예 #1\n",
        "\n",
        "2030년에 2000년생의 한국식 나이는 2030 - 2000 + 1 = 31살입니다.\n",
        "입출력 예 #2\n",
        "\n",
        "2030년에 1999년생의 연 나이는 2030 - 1999 = 31살입니다."
      ],
      "metadata": {
        "id": "PYEU3OcTK44D"
      }
    },
    {
      "cell_type": "code",
      "source": [
        "year = int(input())\n",
        "age_type = input()\n",
        "\n",
        "if age_type == \"Korea\":\n",
        "    answer = 2030 - year + 1\n",
        "\n",
        "elif age_type == \"Year\":\n",
        "    answer = 2030 - year\n",
        "\n",
        "\n",
        "print(answer)"
      ],
      "metadata": {
        "colab": {
          "base_uri": "https://localhost:8080/"
        },
        "id": "LP-gAnnwL3zB",
        "outputId": "a09ae800-dc2b-42bf-8e9f-63a43d287b90"
      },
      "execution_count": null,
      "outputs": [
        {
          "output_type": "stream",
          "name": "stdout",
          "text": [
            "2000\n",
            "Korea\n",
            "31\n"
          ]
        }
      ]
    },
    {
      "cell_type": "markdown",
      "source": [
        "# 4번 / 저축\n",
        "\n",
        "문제 설명\n",
        "진우는 돈을 모으기 위해 저축을 하려고 합니다. 목표로 하는 금액은 100만 원이며, 첫 달에 일정 금액을 넣은 뒤 70만 원까지는 매월 조금씩 저축하다가 70만 원 이후부터는 월 저축량을 늘려 빠르게 목표 금액을 달성하고자 합니다.\n",
        "\n",
        "첫 달에 저축하는 금액을 나타내는 정수 start, 두 번째 달 부터 70만 원 이상 모일 때까지 매월 저축하는 금액을 나타내는 정수 before, 100만 원 이상 모일 때 까지 매월 저축하는 금액을 나타내는 정수 after가 주어질 때, 100만 원 이상을 모을 때까지 걸리는 개월 수를 출력하도록 빈칸을 채워 코드를 완성해 주세요.\n",
        "\n",
        "제한사항\n",
        "0 ≤ start ≤ 99\n",
        "1 ≤ before ≤ after ≤ 25\n",
        "입출력 예\n",
        "입력 #1\n",
        "\n",
        "28\n",
        "6\n",
        "8\n",
        "출력 #1\n",
        "\n",
        "12\n",
        "입력 #2\n",
        "\n",
        "75\n",
        "8\n",
        "25\n",
        "출력 #2\n",
        "\n",
        "2\n",
        "입출력 예 설명\n",
        "입출력 예 #1\n",
        "\n",
        "매월 저축된 금액은 아래 표와 같습니다. 따라서 12를 출력합니다.\n",
        "1\t2\t3\t4\t5\t6\t7\t8\t9\t10\t11\t12\n",
        "28\t34\t40\t46\t52\t58\t64\t70\t78\t86\t94\t102\n",
        "입출력 예 #2\n",
        "\n",
        "첫 달 저축된 금액이 70이 넘으므로 두 번째 달부터 바로 after= 25 만큼 저축합니다. 따라서 2를 출력합니다.\n",
        "1\t2\n",
        "75\t100"
      ],
      "metadata": {
        "id": "vmoGJDEdL8NQ"
      }
    },
    {
      "cell_type": "code",
      "source": [
        "start = int(input())\n",
        "before = int(input())\n",
        "after = int(input())\n",
        "\n",
        "money = start\n",
        "month = 1\n",
        "while money < 70:\n",
        "    money += before\n",
        "\n",
        "    month += 1\n",
        "while money < 100:\n",
        "    money += after\n",
        "    month += 1\n",
        "\n",
        "print(month)\n"
      ],
      "metadata": {
        "colab": {
          "base_uri": "https://localhost:8080/"
        },
        "id": "QAWiyqXEMYRZ",
        "outputId": "84bcdb3c-f7f5-4574-f888-2b4ff20cc64c"
      },
      "execution_count": null,
      "outputs": [
        {
          "output_type": "stream",
          "name": "stdout",
          "text": [
            "28\n",
            "6\n",
            "8\n",
            "12\n"
          ]
        }
      ]
    },
    {
      "cell_type": "markdown",
      "source": [
        "# 5번 / 산책\n",
        "\n",
        "문제 설명\n",
        "여름이는 강아지를 산책시키려고 합니다. 여름이는 2차원 좌표평면에서 동/서/남/북 방향으로 1m 단위로 이동하면서 강아지를 산책시킵니다. 산책루트가 담긴 문자열 route가 주어질 때, 도착점의 위치를 return하도록 빈칸을 채워 solution함수를 완성해 주세요.\n",
        "\n",
        "route는 \"N\", \"S\", \"E\", \"W\"로 이루어져 있습니다.\n",
        "\"N\"은 북쪽으로 1만큼 움직입니다.\n",
        "\"S\"는 남쪽으로 1만큼 움직입니다.\n",
        "북쪽으로 -1만큼 움직인 것과 같습니다.\n",
        "\"E\"는 동쪽으로 1만큼 움직입니다.\n",
        "\"W\"는 서쪽으로 1만큼 움직입니다.\n",
        "동쪽으로 -1만큼 움직인 것과 같습니다.\n",
        "출발점으로부터 [동쪽으로 떨어진 거리, 북쪽으로 떨어진 거리]형태로 강아지의 최종 위치를 구해서 return해야 합니다.\n",
        "출발점을 기준으로 서쪽, 남쪽에 있는 경우는 동쪽, 북쪽으로 음수만큼 떨어진 것으로 표현합니다.\n",
        "출발점으로부터 동쪽으로 2, 북쪽으로 3만큼 떨어졌다면 [2, 3]을 return 합니다.\n",
        "출발점으로부터 서쪽으로 1, 남쪽으로 4만큼 떨어졌다면 [-1, -4]를 return 합니다.\n",
        "제한사항\n",
        "1 ≤ route의 길이 ≤ 20\n",
        "route는 \"N\", \"S\", \"E\", \"W\"로만 이루어져 있습니다.\n",
        "입출력 예\n",
        "route\tresult\n",
        "\"NSSNEWWN\"\t[-1, 1]\n",
        "\"EESEEWNWSNWWNS\"\t[0, 0]\n",
        "입출력 예 설명\n",
        "입출력 예 #1\n",
        "\n",
        "\"NSSNEWWN\" 순서대로 움직이면 서쪽으로 1, 북쪽으로 1만큼 떨어진 곳에 도착하게 되므로 [-1, 1]을 return합니다.\n",
        "입출력 예 #2\n",
        "\n",
        "\"EESEEWNWSNWWNS\" 순서대로 움직이면 출발지와 같은 곳으로 돌아오므로 [0, 0]을 return합니다.\n",
        "cpp를 응시하는 경우 리스트는 배열과 동일한 의미이니 풀이에 참고해주세요.\n",
        "ex) 번호가 담긴 정수 리스트 numbers가 주어집니다. => 번호가 담긴 정수 배열 numbers가 주어집니다.\n",
        "java를 응시하는 경우 리스트는 배열, 함수는 메소드와 동일한 의미이니 풀이에 참고해주세요.\n",
        "ex) solution 함수가 올바르게 작동하도록 한 줄을 수정해 주세요. => solution 메소드가 올바르게 작동하도록 한 줄을 수정해 주세요."
      ],
      "metadata": {
        "id": "M2sJeq-RMhww"
      }
    },
    {
      "cell_type": "code",
      "source": [
        "def solution(route):\n",
        "    east = 0\n",
        "    north = 0\n",
        "    for i in route:\n",
        "        if i == \"N\":\n",
        "            north += 1\n",
        "        elif i == \"S\" :\n",
        "            north -= 1\n",
        "\n",
        "        elif i == \"E\" :\n",
        "            east += 1\n",
        "\n",
        "        elif i == \"W\" :\n",
        "            east -= 1\n",
        "\n",
        "    return [east, north]\n",
        "\n",
        "solution(\"NSSNEWWN\")"
      ],
      "metadata": {
        "colab": {
          "base_uri": "https://localhost:8080/"
        },
        "id": "k2qN-oSBOy-Z",
        "outputId": "4fdd3452-a00d-4044-de49-c09431301c08"
      },
      "execution_count": null,
      "outputs": [
        {
          "output_type": "execute_result",
          "data": {
            "text/plain": [
              "[-1, 1]"
            ]
          },
          "metadata": {},
          "execution_count": 14
        }
      ]
    },
    {
      "cell_type": "markdown",
      "source": [
        "# 6번 / 가채점\n",
        "\n",
        "문제 설명\n",
        "A반 학생들은 시험이 끝난 뒤 성적이 나오기 전 자기 시험지를 가채점해 보았습니다. 이후에 선생님이 실제 성적을 불러 줄 때 가채점한 점수와 실제 성적이 다른 학생들이 있어 선생님께 문의를 하려고 합니다.\n",
        "\n",
        "성적을 문의하려는 학생들의 번호가 담긴 정수 리스트 numbers와 가채점한 점수가 성적을 문의하려는 학생 순서대로 담긴 정수 리스트 our_score, 실제 성적이 번호 순서대로 담긴 정수 리스트 score_list가 주어집니다. 주어진 solution 함수는 가채점한 점수가 실제 성적과 동일하다면 \"Same\"을, 다르다면 \"Different\"를 순서대로 리스트에 담아 return하는 함수입니다. solution 함수가 올바르게 작동하도록 한 줄을 수정해 주세요.\n",
        "\n",
        "제한사항\n",
        "1 ≤ numbers의 길이 = our_score의 길이 ≤ 10\n",
        "1 ≤ numbers의 원소 ≤ 31\n",
        "0 ≤ our_score의 원소 ≤ 100\n",
        "our_score[i]는 numbers[i]번 학생이 가채점한 점수입니다.\n",
        "numbers는 중복된 원소를 가지지 않습니다.\n",
        "2 ≤ score_list의 길이 ≤ 31\n",
        "0 ≤ score_list의 원소 ≤ 100\n",
        "score_list에는 실제 성적이 [1번 학생 성적, 2번 학생 성적, 3번 학생 성적 …] 순서로 들어있습니다.\n",
        "입출력 예\n",
        "numbers\tour_score\tscore_list\tresult\n",
        "[1]\t[100]\t[100, 80, 90, 84, 20]\t[\"Same\"]\n",
        "[3, 4]\t[85, 93]\t[85, 92, 38, 93, 48, 85, 92, 56]\t[\"Different\", \"Same\"]\n",
        "입출력 예 설명\n",
        "입출력 예 #1\n",
        "\n",
        "1번 학생이 가채점한 성적은 100점으로 실제 성적과 같기 때문에 \"Same\"을 담아 return합니다.\n",
        "입출력 예 #2\n",
        "\n",
        "3번 학생이 가채점한 성적은 85점으로 실제 성적 38점과 다르기 때문에 \"Different\"를, 4번 학생이 채점한 성적은 93점으로 실제 성적과 같기 때문에 \"Same\"을 담아 return합니다.\n",
        "cpp를 응시하는 경우 리스트는 배열과 동일한 의미이니 풀이에 참고해주세요.\n",
        "ex) 번호가 담긴 정수 리스트 numbers가 주어집니다. => 번호가 담긴 정수 배열 numbers가 주어집니다.\n",
        "java를 응시하는 경우 리스트는 배열, 함수는 메소드와 동일한 의미이니 풀이에 참고해주세요.\n",
        "ex) solution 함수가 올바르게 작동하도록 한 줄을 수정해 주세요. => solution 메소드가 올바르게 작동하도록 한 줄을 수정해 주세요."
      ],
      "metadata": {
        "id": "MPBm2nLfPVQl"
      }
    },
    {
      "cell_type": "code",
      "source": [
        "def solution(numbers, our_score, score_list):\n",
        "    answer = []\n",
        "    for i in range(len(numbers)):\n",
        "        if our_score[i] == score_list[numbers[i]-1]:\n",
        "            answer.append(\"Same\")\n",
        "        else:\n",
        "            answer.append(\"Different\")\n",
        "\n",
        "    return answer"
      ],
      "metadata": {
        "id": "ohOjh1RtQKhD"
      },
      "execution_count": null,
      "outputs": []
    },
    {
      "cell_type": "code",
      "source": [
        "numbers = [3, 4]\n",
        "our_score = [85, 93]\n",
        "score_list = [85, 92, 38, 93, 48, 85, 92, 56]\n",
        "\n",
        "solution(numbers, our_score, score_list)"
      ],
      "metadata": {
        "colab": {
          "base_uri": "https://localhost:8080/"
        },
        "id": "iOZBJ5ilQjmw",
        "outputId": "8f66f312-1895-4d16-b060-9c57d39d7ba4"
      },
      "execution_count": null,
      "outputs": [
        {
          "output_type": "execute_result",
          "data": {
            "text/plain": [
              "['Different', 'Same']"
            ]
          },
          "metadata": {},
          "execution_count": 18
        }
      ]
    },
    {
      "cell_type": "markdown",
      "source": [
        "# 7번 / 가습기\n",
        "\n",
        "문제 설명\n",
        "상우가 사용하는 가습기에는 \"auto\", \"target\", \"minimum\"의 세 가지 모드가 있습니다. 가습기의 가습량은 0~5단계로 구분되며 각 모드 별 동작 방식은 다음과 같습니다.\n",
        "\n",
        "\"auto\" 모드\n",
        "\n",
        "습도가 0 이상 10 미만인 경우 : 5단계\n",
        "습도가 10 이상 20 미만인 경우 : 4단계\n",
        "습도가 20 이상 30 미만인 경우 : 3단계\n",
        "습도가 30 이상 40 미만인 경우 : 2단계\n",
        "습도가 40 이상 50 미만인 경우 : 1단계\n",
        "습도가 50 이상인 경우 : 0단계\n",
        "\"target\" 모드\n",
        "\n",
        "습도가 설정값 미만일 경우 : 3단계\n",
        "습도가 설정값 이상일 경우 : 1단계\n",
        "\"minimum\"모드\n",
        "\n",
        "습도가 설정값 미만일 경우 : 1단계\n",
        "습도가 설정값 이상일 경우 : 0단계\n",
        "상우가 설정한 가습기의 모드를 나타낸 문자열 mode_type, 현재 공기 중 습도를 나타낸 정수 humidity, 설정값을 나타낸 정수 val_set이 주어질 때 현재 가습기가 몇 단계로 작동 중인지 return하도록 빈칸을 채워 solution 함수를 완성해 주세요.\n",
        "\n",
        "제한사항\n",
        "mode_type은 \"auto\", \"target\", \"minimum\" 세 가지 중 하나의 값을 갖습니다.\n",
        "0 ≤ humidity, val_set ≤ 100\n",
        "입출력 예\n",
        "mode_type\thumidity\tval_set\tresult\n",
        "\"auto\"\t23\t45\t3\n",
        "\"target\"\t41\t40\t1\n",
        "\"minimum\"\t10\t34\t1\n",
        "입출력 예 설명\n",
        "입출력 예 #1\n",
        "\n",
        "\"auto\"모드이므로 습도에 따라 가습량이 조절됩니다. 현재 습도가 20 이상 30 미만이므로 3을 return합니다.\n",
        "입출력 예 #2\n",
        "\n",
        "\"target\"모드이고, 설정값보다 습도가 높으므로 1을 return합니다.\n",
        "입출력 예 #3\n",
        "\n",
        "\"minimum\"모드이고, 설정값보다 습도가 낮으므로 1을 return합니다.\n",
        "cpp를 응시하는 경우 리스트는 배열과 동일한 의미이니 풀이에 참고해주세요.\n",
        "ex) 번호가 담긴 정수 리스트 numbers가 주어집니다. => 번호가 담긴 정수 배열 numbers가 주어집니다.\n",
        "java를 응시하는 경우 리스트는 배열, 함수는 메소드와 동일한 의미이니 풀이에 참고해주세요.\n",
        "ex) solution 함수가 올바르게 작동하도록 한 줄을 수정해 주세요. => solution 메소드가 올바르게 작동하도록 한 줄을 수정해 주세요."
      ],
      "metadata": {
        "id": "sqDcjkVsQ5vi"
      }
    },
    {
      "cell_type": "code",
      "source": [
        "def func1(humidity, val_set):\n",
        "    if humidity < val_set:\n",
        "        return 3\n",
        "    return 1\n",
        "\n",
        "def func2(humidity):\n",
        "    if humidity >= 50:\n",
        "        return 0\n",
        "    elif humidity >= 40:\n",
        "        return 1\n",
        "    elif humidity >= 30:\n",
        "        return 2\n",
        "    elif humidity >= 20:\n",
        "        return 3\n",
        "    elif humidity >= 10:\n",
        "        return 4\n",
        "    elif humidity >= 0:\n",
        "        return 5\n",
        "\n",
        "\n",
        "def func3(humidity, val_set):\n",
        "    if humidity < val_set:\n",
        "        return 1\n",
        "    return 0\n",
        "\n",
        "\n",
        "def solution(mode_type, humidity, val_set):\n",
        "    answer = 0\n",
        "    if mode_type == \"auto\":\n",
        "        answer = func2(humidity)\n",
        "\n",
        "    elif mode_type == \"target\":\n",
        "        answer = func1(humidity, val_set)\n",
        "\n",
        "    elif mode_type == \"minimum\":\n",
        "        answer = func3(humidity, val_set)\n",
        "\n",
        "    return answer\n",
        "\n",
        "solution('auto',24,45)"
      ],
      "metadata": {
        "colab": {
          "base_uri": "https://localhost:8080/"
        },
        "id": "tW5MfJcERGUk",
        "outputId": "91c76d31-b4b4-4652-8840-357caf0d304b"
      },
      "execution_count": null,
      "outputs": [
        {
          "output_type": "execute_result",
          "data": {
            "text/plain": [
              "3"
            ]
          },
          "metadata": {},
          "execution_count": 20
        }
      ]
    }
  ]
}