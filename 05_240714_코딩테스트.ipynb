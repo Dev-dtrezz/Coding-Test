{
  "nbformat": 4,
  "nbformat_minor": 0,
  "metadata": {
    "colab": {
      "provenance": [],
      "authorship_tag": "ABX9TyNa9x3ccclPJdw3W4/rVprS"
    },
    "kernelspec": {
      "name": "python3",
      "display_name": "Python 3"
    },
    "language_info": {
      "name": "python"
    }
  },
  "cells": [
    {
      "cell_type": "markdown",
      "source": [
        "#26. 26번_부족한 금액 계산하기\n",
        "\n",
        "문제 설명\n",
        "새로 생긴 놀이기구는 인기가 매우 많아 줄이 끊이질 않습니다. 이 놀이기구의 원래 이용료는 price원 인데, 놀이기구를 N 번 째 이용한다면 원래 이용료의 N배를 받기로 하였습니다. 즉, 처음 이용료가 100이었다면 2번째에는 200, 3번째에는 300으로 요금이 인상됩니다.\n",
        "놀이기구를 count번 타게 되면 현재 자신이 가지고 있는 금액에서 얼마가 모자라는지를 return 하도록 solution 함수를 완성하세요.\n",
        "단, 금액이 부족하지 않으면 0을 return 하세요.\n",
        "\n",
        "제한사항\n",
        "놀이기구의 이용료 price : 1 ≤ price ≤ 2,500, price는 자연수\n",
        "처음 가지고 있던 금액 money : 1 ≤ money ≤ 1,000,000,000, money는 자연수\n",
        "놀이기구의 이용 횟수 count : 1 ≤ count ≤ 2,500, count는 자연수\n",
        "입출력 예\n",
        "price\tmoney\tcount\tresult\n",
        "3\t20\t4\t10\n",
        "입출력 예 설명\n",
        "입출력 예 #1\n",
        "이용금액이 3인 놀이기구를 4번 타고 싶은 고객이 현재 가진 금액이 20이라면, 총 필요한 놀이기구의 이용 금액은 30 (= 3+6+9+12) 이 되어 10만큼 부족하므로 10을 return 합니다.\n",
        "\n",
        "참고 사항\n",
        "미션 언어는 Java, JavaScript, Python3, C++ 만 해당 됩니다.\n",
        "같은 코드를 제출한 사람이 여럿이라면 코드를 가장 먼저 제출한 분께 상품을 드립니다.\n",
        "좋아요 수가 동일할 경우 코드를 가장 먼저 제출한 분께 상품을 드립니다."
      ],
      "metadata": {
        "id": "YMmUTHyTXBq2"
      }
    },
    {
      "cell_type": "code",
      "source": [
        "def solution(price, money, count):\n",
        "    price = sum([price*i for i in range(1, count+1)])\n",
        "    return abs(money-price) if money < price else 0"
      ],
      "metadata": {
        "id": "gRlZqtYAaHHP"
      },
      "execution_count": null,
      "outputs": []
    },
    {
      "cell_type": "code",
      "source": [
        "solution(3,20,4)"
      ],
      "metadata": {
        "colab": {
          "base_uri": "https://localhost:8080/"
        },
        "id": "vXt6t_0XaIlS",
        "outputId": "427bc3c7-c9d0-4cc1-abe9-afdaac5f38b4"
      },
      "execution_count": null,
      "outputs": [
        {
          "output_type": "execute_result",
          "data": {
            "text/plain": [
              "10"
            ]
          },
          "metadata": {},
          "execution_count": 2
        }
      ]
    },
    {
      "cell_type": "code",
      "source": [
        "# 추천풀이\n",
        "def solution(price, money, count):\n",
        "    return max(0,price*(count+1)*count//2-money)\n",
        "solution(3,20,4)"
      ],
      "metadata": {
        "colab": {
          "base_uri": "https://localhost:8080/"
        },
        "id": "nV2E7dDbaLgk",
        "outputId": "15d4c24e-aac4-440b-8472-ace66c22f78c"
      },
      "execution_count": null,
      "outputs": [
        {
          "output_type": "execute_result",
          "data": {
            "text/plain": [
              "10"
            ]
          },
          "metadata": {},
          "execution_count": 3
        }
      ]
    },
    {
      "cell_type": "markdown",
      "source": [
        "#27. 27번_문자열 다루기 기본\n",
        "\n",
        "문제 설명\n",
        "문자열 s의 길이가 4 혹은 6이고, 숫자로만 구성돼있는지 확인해주는 함수, solution을 완성하세요. 예를 들어 s가 \"a234\"이면 False를 리턴하고 \"1234\"라면 True를 리턴하면 됩니다.\n",
        "\n",
        "제한 사항\n",
        "s는 길이 1 이상, 길이 8 이하인 문자열입니다.\n",
        "s는 영문 알파벳 대소문자 또는 0부터 9까지 숫자로 이루어져 있습니다.\n",
        "입출력 예\n",
        "s\treturn\n",
        "\"a234\"\tfalse\n",
        "\"1234\"\ttrue"
      ],
      "metadata": {
        "id": "DbWA0jGJaag9"
      }
    },
    {
      "cell_type": "code",
      "source": [
        "def solution(s):\n",
        "    return s.isdigit() and len(s) in [4,6]"
      ],
      "metadata": {
        "id": "-qKmDmuWbgil"
      },
      "execution_count": null,
      "outputs": []
    },
    {
      "cell_type": "code",
      "source": [
        "solution('a123')"
      ],
      "metadata": {
        "colab": {
          "base_uri": "https://localhost:8080/"
        },
        "id": "iUXUZYpvk7Bm",
        "outputId": "6af4056b-c60a-42b7-a8d3-f1b6345fe889"
      },
      "execution_count": null,
      "outputs": [
        {
          "output_type": "execute_result",
          "data": {
            "text/plain": [
              "False"
            ]
          },
          "metadata": {},
          "execution_count": 21
        }
      ]
    },
    {
      "cell_type": "markdown",
      "source": [
        "#28. 28번_행렬의 덧셈\n",
        "\n",
        "문제 설명\n",
        "행렬의 덧셈은 행과 열의 크기가 같은 두 행렬의 같은 행, 같은 열의 값을 서로 더한 결과가 됩니다. 2개의 행렬 arr1과 arr2를 입력받아, 행렬 덧셈의 결과를 반환하는 함수, solution을 완성해주세요.\n",
        "\n",
        "제한 조건\n",
        "행렬 arr1, arr2의 행과 열의 길이는 500을 넘지 않습니다.\n",
        "입출력 예\n",
        "arr1\tarr2\treturn\n",
        "[[1,2],[2,3]]\t[[3,4],[5,6]]\t[[4,6],[7,9]]\n",
        "[[1],[2]]\t[[3],[4]]\t[[4],[6]]"
      ],
      "metadata": {
        "id": "SWG7MZM_k9oY"
      }
    },
    {
      "cell_type": "code",
      "source": [
        "def solution(arr1, arr2):\n",
        "    for i in range(len(arr1)):\n",
        "        for j in range(len(arr1[0])):\n",
        "            arr1[i][j] += arr2[i][j]\n",
        "    return arr1"
      ],
      "metadata": {
        "id": "60RxpR16lVzs"
      },
      "execution_count": null,
      "outputs": []
    },
    {
      "cell_type": "code",
      "source": [
        "arr1 = [[1,2],[2,3]]\n",
        "arr2 = [[3,4],[5,6]]\n",
        "solution(arr1, arr2)"
      ],
      "metadata": {
        "colab": {
          "base_uri": "https://localhost:8080/"
        },
        "id": "3jp2zpRFrP5l",
        "outputId": "c23873d8-873c-4084-ca3a-9cb43b04c8ba"
      },
      "execution_count": null,
      "outputs": [
        {
          "output_type": "execute_result",
          "data": {
            "text/plain": [
              "[[4, 6], [7, 9]]"
            ]
          },
          "metadata": {},
          "execution_count": 66
        }
      ]
    },
    {
      "cell_type": "code",
      "source": [
        "# 추천풀이\n",
        "def sumMatrix(A,B):\n",
        "    answer = [[c + d for c, d in zip(a,b)] for a, b in zip(A,B)]\n",
        "    return answer"
      ],
      "metadata": {
        "id": "mi9njhV2t9f6"
      },
      "execution_count": null,
      "outputs": []
    }
  ]
}