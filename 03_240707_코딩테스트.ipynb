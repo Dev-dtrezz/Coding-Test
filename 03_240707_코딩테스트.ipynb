{
  "nbformat": 4,
  "nbformat_minor": 0,
  "metadata": {
    "colab": {
      "provenance": [],
      "authorship_tag": "ABX9TyNaL2+vJ31uu7vECAWWZEfm"
    },
    "kernelspec": {
      "name": "python3",
      "display_name": "Python 3"
    },
    "language_info": {
      "name": "python"
    }
  },
  "cells": [
    {
      "cell_type": "markdown",
      "source": [
        "#  21번 / 내적\n",
        "\n",
        "문제 설명\n",
        "길이가 같은 두 1차원 정수 배열 a, b가 매개변수로 주어집니다. a와 b의 내적을 return 하도록 solution 함수를 완성해주세요.\n",
        "\n",
        "이때, a와 b의 내적은 a[0]*b[0] + a[1]*b[1] + ... + a[n-1]*b[n-1] 입니다. (n은 a, b의 길이)\n",
        "\n",
        "제한사항\n",
        "a, b의 길이는 1 이상 1,000 이하입니다.\n",
        "a, b의 모든 수는 -1,000 이상 1,000 이하입니다.\n",
        "입출력 예\n",
        "a\tb\tresult\n",
        "[1,2,3,4]\t[-3,-1,0,2]\t3\n",
        "[-1,0,1]\t[1,0,-1]\t-2\n",
        "입출력 예 설명\n",
        "입출력 예 #1\n",
        "\n",
        "a와 b의 내적은 1*(-3) + 2*(-1) + 3*0 + 4*2 = 3 입니다.\n",
        "입출력 예 #2\n",
        "\n",
        "a와 b의 내적은 (-1)*1 + 0*0 + 1*(-1) = -2 입니다."
      ],
      "metadata": {
        "id": "U1stNgr9XrOc"
      }
    },
    {
      "cell_type": "code",
      "source": [
        "def solution(a, b):\n",
        "    answer = 0\n",
        "    for i in range(len(a)):\n",
        "        answer += (a[i] * b[i])\n",
        "    return answer"
      ],
      "metadata": {
        "id": "pGHKgGOuY7tq"
      },
      "execution_count": null,
      "outputs": []
    },
    {
      "cell_type": "code",
      "source": [
        "a = [1,2,3,4]\n",
        "b= [-3,-1,0,2]\n",
        "solution(a,b)"
      ],
      "metadata": {
        "colab": {
          "base_uri": "https://localhost:8080/"
        },
        "id": "JOtqqCaFY_CH",
        "outputId": "2ff4074e-9fed-4c5a-b342-53ff5e5d148a"
      },
      "execution_count": null,
      "outputs": [
        {
          "output_type": "execute_result",
          "data": {
            "text/plain": [
              "3"
            ]
          },
          "metadata": {},
          "execution_count": 2
        }
      ]
    },
    {
      "cell_type": "code",
      "source": [
        "# 추천풀이\n",
        "def solution(a, b):\n",
        "    return sum([x*y for x,y in zip(a,b)])\n",
        "solution(a,b)"
      ],
      "metadata": {
        "colab": {
          "base_uri": "https://localhost:8080/"
        },
        "id": "Y49EJGF4ZIQM",
        "outputId": "d73197b4-d05f-4b4c-f92c-6c9df2876afc"
      },
      "execution_count": null,
      "outputs": [
        {
          "output_type": "execute_result",
          "data": {
            "text/plain": [
              "3"
            ]
          },
          "metadata": {},
          "execution_count": 4
        }
      ]
    },
    {
      "cell_type": "code",
      "source": [
        "# 람다함수\n",
        "x = [1,2,3,4]\n",
        "y = [-3,-1,0,2]\n",
        "solution = lambda x,y: sum(a*b for a,b in zip(x,y))\n",
        "solution(x,y)"
      ],
      "metadata": {
        "colab": {
          "base_uri": "https://localhost:8080/"
        },
        "id": "F9-suqeGZgqo",
        "outputId": "50392ae0-5164-4f67-8742-f8a7704d4b27"
      },
      "execution_count": null,
      "outputs": [
        {
          "output_type": "execute_result",
          "data": {
            "text/plain": [
              "3"
            ]
          },
          "metadata": {},
          "execution_count": 7
        }
      ]
    },
    {
      "cell_type": "markdown",
      "source": [
        "# 22번 / 수박수박수박수박수박수?\n",
        "\n",
        "문제 설명\n",
        "길이가 n이고, \"수박수박수박수....\"와 같은 패턴을 유지하는 문자열을 리턴하는 함수, solution을 완성하세요. 예를들어 n이 4이면 \"수박수박\"을 리턴하고 3이라면 \"수박수\"를 리턴하면 됩니다.\n",
        "\n",
        "제한 조건\n",
        "n은 길이 10,000이하인 자연수입니다.\n",
        "입출력 예\n",
        "n\treturn\n",
        "3\t\"수박수\"\n",
        "4\t\"수박수박\""
      ],
      "metadata": {
        "id": "VoZ--s9sbCAr"
      }
    },
    {
      "cell_type": "code",
      "source": [
        "def solution(n):\n",
        "    return \"수박\" * (n // 2) + (\"수\" if n%2 == 1 else \"\")"
      ],
      "metadata": {
        "id": "KBeTpl81eZWR"
      },
      "execution_count": null,
      "outputs": []
    },
    {
      "cell_type": "code",
      "source": [
        "solution(3)"
      ],
      "metadata": {
        "colab": {
          "base_uri": "https://localhost:8080/",
          "height": 36
        },
        "id": "kZvTA_XeebBG",
        "outputId": "4fa7380d-46d5-4c44-bc0c-f1a85866860a"
      },
      "execution_count": null,
      "outputs": [
        {
          "output_type": "execute_result",
          "data": {
            "text/plain": [
              "'수박수'"
            ],
            "application/vnd.google.colaboratory.intrinsic+json": {
              "type": "string"
            }
          },
          "metadata": {},
          "execution_count": 9
        }
      ]
    },
    {
      "cell_type": "markdown",
      "source": [
        "# 23번 / 가운데 글자 가져오기\n",
        "\n",
        "문제 설명\n",
        "단어 s의 가운데 글자를 반환하는 함수, solution을 만들어 보세요. 단어의 길이가 짝수라면 가운데 두글자를 반환하면 됩니다.\n",
        "\n",
        "재한사항\n",
        "s는 길이가 1 이상, 100이하인 스트링입니다.\n",
        "입출력 예\n",
        "s\treturn\n",
        "\"abcde\"\t\"c\"\n",
        "\"qwer\"\t\"we\""
      ],
      "metadata": {
        "id": "3rWj6uXWec2P"
      }
    },
    {
      "cell_type": "code",
      "source": [
        "def solution(s):\n",
        "    return s[len(s)//2] if len(s) % 2 == 1 else s[(len(s)//2)-1:len(s)//2+1]"
      ],
      "metadata": {
        "id": "-d3IE0s1ekBM"
      },
      "execution_count": null,
      "outputs": []
    },
    {
      "cell_type": "code",
      "source": [
        "s = \"abcde\"\n",
        "solution(s)"
      ],
      "metadata": {
        "id": "yeChLZ_JgSjz",
        "colab": {
          "base_uri": "https://localhost:8080/",
          "height": 36
        },
        "outputId": "da576316-ee5c-4326-e48e-ca9c5a3eea5b"
      },
      "execution_count": null,
      "outputs": [
        {
          "output_type": "execute_result",
          "data": {
            "text/plain": [
              "'c'"
            ],
            "application/vnd.google.colaboratory.intrinsic+json": {
              "type": "string"
            }
          },
          "metadata": {},
          "execution_count": 13
        }
      ]
    },
    {
      "cell_type": "code",
      "source": [
        "# 추천풀이\n",
        "def string_middle(str):\n",
        "    return str[(len(str)-1)//2 : len(str)//2 + 1]\n",
        "string_middle(\"abcde\")"
      ],
      "metadata": {
        "colab": {
          "base_uri": "https://localhost:8080/",
          "height": 36
        },
        "id": "p2GzXZ0hhkZy",
        "outputId": "a0a06773-443f-4895-fb17-4cb88df2e1c2"
      },
      "execution_count": null,
      "outputs": [
        {
          "output_type": "execute_result",
          "data": {
            "text/plain": [
              "'c'"
            ],
            "application/vnd.google.colaboratory.intrinsic+json": {
              "type": "string"
            }
          },
          "metadata": {},
          "execution_count": 14
        }
      ]
    },
    {
      "cell_type": "markdown",
      "source": [
        "# 24번 / 약수의 개수와 덧셈\n",
        "\n",
        "문제 설명\n",
        "두 정수 left와 right가 매개변수로 주어집니다. left부터 right까지의 모든 수들 중에서, 약수의 개수가 짝수인 수는 더하고, 약수의 개수가 홀수인 수는 뺀 수를 return 하도록 solution 함수를 완성해주세요.\n",
        "\n",
        "제한사항\n",
        "1 ≤ left ≤ right ≤ 1,000\n",
        "입출력 예\n",
        "left\tright\tresult\n",
        "13\t17\t43\n",
        "24\t27\t52\n",
        "입출력 예 설명\n",
        "입출력 예 #1\n",
        "\n",
        "다음 표는 13부터 17까지의 수들의 약수를 모두 나타낸 것입니다.\n",
        "수\t약수\t약수의 개수\n",
        "13\t1, 13\t2\n",
        "14\t1, 2, 7, 14\t4\n",
        "15\t1, 3, 5, 15\t4\n",
        "16\t1, 2, 4, 8, 16\t5\n",
        "17\t1, 17\t2\n",
        "따라서, 13 + 14 + 15 - 16 + 17 = 43을 return 해야 합니다.\n",
        "입출력 예 #2\n",
        "\n",
        "다음 표는 24부터 27까지의 수들의 약수를 모두 나타낸 것입니다.\n",
        "수\t약수\t약수의 개수\n",
        "24\t1, 2, 3, 4, 6, 8, 12, 24\t8\n",
        "25\t1, 5, 25\t3\n",
        "26\t1, 2, 13, 26\t4\n",
        "27\t1, 3, 9, 27\t4\n",
        "따라서, 24 - 25 + 26 + 27 = 52를 return 해야 합니다."
      ],
      "metadata": {
        "id": "EDzxPRbZh3f5"
      }
    },
    {
      "cell_type": "code",
      "source": [
        "def solution(left, right):\n",
        "    answer = 0\n",
        "    for i in range(left, right+1):\n",
        "        li1 = [j for j in range(1, i+1) if i % j == 0]\n",
        "        if len(li1) % 2 == 0:\n",
        "            answer += i\n",
        "        elif len(li1) % 2 == 1:\n",
        "            answer -= i\n",
        "    return answer"
      ],
      "metadata": {
        "id": "nfGeies0qHIH"
      },
      "execution_count": null,
      "outputs": []
    },
    {
      "cell_type": "code",
      "source": [
        "solution(13, 17)"
      ],
      "metadata": {
        "colab": {
          "base_uri": "https://localhost:8080/"
        },
        "id": "YEpSwkjaqIcn",
        "outputId": "e03a75fe-d3e2-4a16-f650-210813506c00"
      },
      "execution_count": null,
      "outputs": [
        {
          "output_type": "execute_result",
          "data": {
            "text/plain": [
              "43"
            ]
          },
          "metadata": {},
          "execution_count": 16
        }
      ]
    },
    {
      "cell_type": "code",
      "source": [
        "# 추천코드 - 제곱수는 약수의 갯수가 홀수인 것을 활용\n",
        "def solution(left, right):\n",
        "    answer = 0\n",
        "    for i in range(left,right+1):\n",
        "        # i의 제곱근의 정수와 제곱근이 같으면 -> 제곱수인지를 파악\n",
        "        if int(i**0.5)==i**0.5:\n",
        "            answer -= i\n",
        "        else:\n",
        "            answer += i\n",
        "    return answer\n",
        "solution(13, 17)"
      ],
      "metadata": {
        "id": "3NbwgwwtqLC8",
        "colab": {
          "base_uri": "https://localhost:8080/"
        },
        "outputId": "a9e3f49f-fc0e-4d9f-d1ea-3b9458f653ab"
      },
      "execution_count": null,
      "outputs": [
        {
          "output_type": "execute_result",
          "data": {
            "text/plain": [
              "43"
            ]
          },
          "metadata": {},
          "execution_count": 17
        }
      ]
    },
    {
      "cell_type": "markdown",
      "source": [
        "# 25번 / 문자열 내림차순으로 배치하기\n",
        "\n",
        "문제 설명\n",
        "문자열 s에 나타나는 문자를 큰것부터 작은 순으로 정렬해 새로운 문자열을 리턴하는 함수, solution을 완성해주세요.\n",
        "s는 영문 대소문자로만 구성되어 있으며, 대문자는 소문자보다 작은 것으로 간주합니다.\n",
        "\n",
        "제한 사항\n",
        "str은 길이 1 이상인 문자열입니다.\n",
        "입출력 예\n",
        "s\treturn\n",
        "\"Zbcdefg\"\t\"gfedcbZ\""
      ],
      "metadata": {
        "id": "NwW39pIMrbIT"
      }
    },
    {
      "cell_type": "code",
      "source": [
        "def solution(s):\n",
        "    return \"\".join(sorted(s, reverse=True))"
      ],
      "metadata": {
        "id": "p4nOYZeerlQ5"
      },
      "execution_count": null,
      "outputs": []
    },
    {
      "cell_type": "code",
      "source": [
        "solution(\"Zbcdefg\")"
      ],
      "metadata": {
        "colab": {
          "base_uri": "https://localhost:8080/",
          "height": 36
        },
        "id": "0ewRVja8sewU",
        "outputId": "b1b038de-8f66-4128-d163-1565d40352a8"
      },
      "execution_count": null,
      "outputs": [
        {
          "output_type": "execute_result",
          "data": {
            "text/plain": [
              "'gfedcbZ'"
            ],
            "application/vnd.google.colaboratory.intrinsic+json": {
              "type": "string"
            }
          },
          "metadata": {},
          "execution_count": 20
        }
      ]
    },
    {
      "cell_type": "markdown",
      "source": [
        "# level2_정답률 높은 순"
      ],
      "metadata": {
        "id": "KQ95XD43tR3Y"
      }
    },
    {
      "cell_type": "markdown",
      "source": [
        "# 1번 / 최댓값과 최솟값\n",
        "\n",
        "문제 설명\n",
        "문자열 s에는 공백으로 구분된 숫자들이 저장되어 있습니다. str에 나타나는 숫자 중 최소값과 최대값을 찾아 이를 \"(최소값) (최대값)\"형태의 문자열을 반환하는 함수, solution을 완성하세요.\n",
        "예를들어 s가 \"1 2 3 4\"라면 \"1 4\"를 리턴하고, \"-1 -2 -3 -4\"라면 \"-4 -1\"을 리턴하면 됩니다.\n",
        "\n",
        "제한 조건\n",
        "s에는 둘 이상의 정수가 공백으로 구분되어 있습니다.\n",
        "입출력 예\n",
        "s\treturn\n",
        "\"1 2 3 4\"\t\"1 4\"\n",
        "\"-1 -2 -3 -4\"\t\"-4 -1\"\n",
        "\"-1 -1\"\t\"-1 -1\""
      ],
      "metadata": {
        "id": "J_XxAAXPtU9O"
      }
    },
    {
      "cell_type": "code",
      "source": [
        "def solution(s):\n",
        "    li1 = s.split(\" \")\n",
        "    li2 = [int(i) for i in li1]\n",
        "    return str(min(li2)) + ' ' + str(max(li2))"
      ],
      "metadata": {
        "id": "W96H-pW8x1vq"
      },
      "execution_count": null,
      "outputs": []
    },
    {
      "cell_type": "code",
      "source": [
        "s = \"-1 -2 -3 -4\"\n",
        "solution(s)"
      ],
      "metadata": {
        "colab": {
          "base_uri": "https://localhost:8080/",
          "height": 36
        },
        "id": "HO0rl1s5x3KU",
        "outputId": "2d44ca3c-ce8d-452f-e2fd-3c9d35a22f4c"
      },
      "execution_count": null,
      "outputs": [
        {
          "output_type": "execute_result",
          "data": {
            "text/plain": [
              "'-4 -1'"
            ],
            "application/vnd.google.colaboratory.intrinsic+json": {
              "type": "string"
            }
          },
          "metadata": {},
          "execution_count": 6
        }
      ]
    },
    {
      "cell_type": "code",
      "source": [
        "# 추천풀이\n",
        "def solution(s):\n",
        "    s = list(map(int,s.split()))\n",
        "    return str(min(s)) + \" \" + str(max(s))\n",
        "solution(s)"
      ],
      "metadata": {
        "colab": {
          "base_uri": "https://localhost:8080/",
          "height": 36
        },
        "id": "sYFJwVGDx7-L",
        "outputId": "333882ec-4d92-446f-e77d-0b6faccb9e68"
      },
      "execution_count": null,
      "outputs": [
        {
          "output_type": "execute_result",
          "data": {
            "text/plain": [
              "'-4 -1'"
            ],
            "application/vnd.google.colaboratory.intrinsic+json": {
              "type": "string"
            }
          },
          "metadata": {},
          "execution_count": 8
        }
      ]
    },
    {
      "cell_type": "code",
      "source": [],
      "metadata": {
        "colab": {
          "base_uri": "https://localhost:8080/"
        },
        "id": "6bVUqm1X3V8K",
        "outputId": "632f6c1e-f8fa-4ed9-9a9b-aca65cb429d2"
      },
      "execution_count": null,
      "outputs": [
        {
          "output_type": "stream",
          "name": "stdout",
          "text": [
            "[-1, 0, 1, 2]\n"
          ]
        }
      ]
    }
  ]
}