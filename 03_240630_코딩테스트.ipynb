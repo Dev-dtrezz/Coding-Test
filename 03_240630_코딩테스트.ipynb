{
  "nbformat": 4,
  "nbformat_minor": 0,
  "metadata": {
    "colab": {
      "provenance": [],
      "toc_visible": true,
      "authorship_tag": "ABX9TyPyTiDK0t8xFBJmfWgTyGsW",
      "include_colab_link": true
    },
    "kernelspec": {
      "name": "python3",
      "display_name": "Python 3"
    },
    "language_info": {
      "name": "python"
    }
  },
  "cells": [
    {
      "cell_type": "markdown",
      "metadata": {
        "id": "view-in-github",
        "colab_type": "text"
      },
      "source": [
        "<a href=\"https://colab.research.google.com/github/Dev-dtrezz/Coding-Test/blob/main/03_240630_%EC%BD%94%EB%94%A9%ED%85%8C%EC%8A%A4%ED%8A%B8.ipynb\" target=\"_parent\"><img src=\"https://colab.research.google.com/assets/colab-badge.svg\" alt=\"Open In Colab\"/></a>"
      ]
    },
    {
      "cell_type": "markdown",
      "source": [
        "# 11번 / 정수 내림차순으로 배치하기\n",
        "제출 내역\n",
        "문제 설명\n",
        "함수 solution은 정수 n을 매개변수로 입력받습니다. n의 각 자릿수를 큰것부터 작은 순으로 정렬한 새로운 정수를 리턴해주세요. 예를들어 n이 118372면 873211을 리턴하면 됩니다.\n",
        "\n",
        "제한 조건\n",
        "n은 1이상 8000000000 이하인 자연수입니다.\n",
        "입출력 예\n",
        "n\treturn\n",
        "118372\t873211"
      ],
      "metadata": {
        "id": "jNF-cg5DFFEw"
      }
    },
    {
      "cell_type": "code",
      "source": [
        "def solution(n):\n",
        "    li1 = []\n",
        "    for i in str(n):\n",
        "        li1.append(int(i))\n",
        "    li1.sort(reverse=True)\n",
        "    answer = ''\n",
        "    for i in li1:\n",
        "        answer += str(i)\n",
        "    return int(answer)"
      ],
      "metadata": {
        "id": "YmJkLI6-FE7S"
      },
      "execution_count": null,
      "outputs": []
    },
    {
      "cell_type": "code",
      "source": [
        "n = '118372'\n",
        "solution(n)"
      ],
      "metadata": {
        "colab": {
          "base_uri": "https://localhost:8080/"
        },
        "id": "f_h8gi2WFGdO",
        "outputId": "154fc492-1c36-429f-8b05-087889b65f0d"
      },
      "execution_count": null,
      "outputs": [
        {
          "output_type": "execute_result",
          "data": {
            "text/plain": [
              "873211"
            ]
          },
          "metadata": {},
          "execution_count": 34
        }
      ]
    },
    {
      "cell_type": "code",
      "source": [
        "# 추천풀이\n",
        "def solution(n):\n",
        "    ls = list(str(n))\n",
        "    ls.sort(reverse = True)\n",
        "    return int(\"\".join(ls))\n",
        "solution(n)"
      ],
      "metadata": {
        "colab": {
          "base_uri": "https://localhost:8080/"
        },
        "id": "mMM6zepJGqvI",
        "outputId": "4ac91e7c-051f-4dfa-ff51-ae3bd5faca92"
      },
      "execution_count": null,
      "outputs": [
        {
          "output_type": "execute_result",
          "data": {
            "text/plain": [
              "873211"
            ]
          },
          "metadata": {},
          "execution_count": 35
        }
      ]
    },
    {
      "cell_type": "markdown",
      "source": [
        "# 12번 / 하샤드 수\n",
        "\n",
        "문제 설명\n",
        "양의 정수 x가 하샤드 수이려면 x의 자릿수의 합으로 x가 나누어져야 합니다. 예를 들어 18의 자릿수 합은 1+8=9이고, 18은 9로 나누어 떨어지므로 18은 하샤드 수입니다. 자연수 x를 입력받아 x가 하샤드 수인지 아닌지 검사하는 함수, solution을 완성해주세요.\n",
        "\n",
        "제한 조건\n",
        "x는 1 이상, 10000 이하인 정수입니다.\n",
        "입출력 예\n",
        "x\treturn\n",
        "10\ttrue\n",
        "12\ttrue\n",
        "11\tfalse\n",
        "13\tfalse\n",
        "입출력 예 설명\n",
        "입출력 예 #1\n",
        "10의 모든 자릿수의 합은 1입니다. 10은 1로 나누어 떨어지므로 10은 하샤드 수입니다.\n",
        "\n",
        "입출력 예 #2\n",
        "12의 모든 자릿수의 합은 3입니다. 12는 3으로 나누어 떨어지므로 12는 하샤드 수입니다.\n",
        "\n",
        "입출력 예 #3\n",
        "11의 모든 자릿수의 합은 2입니다. 11은 2로 나누어 떨어지지 않으므로 11는 하샤드 수가 아닙니다.\n",
        "\n",
        "입출력 예 #4\n",
        "13의 모든 자릿수의 합은 4입니다. 13은 4로 나누어 떨어지지 않으므로 13은 하샤드 수가 아닙니다.\n",
        "\n",
        "※ 공지 - 2023년 5월 27일 문제 지문 오탈자 수정되었습니다."
      ],
      "metadata": {
        "id": "LG6MkJxIGzdT"
      }
    },
    {
      "cell_type": "code",
      "source": [
        "def solution(x):\n",
        "    has = 0\n",
        "    for i in str(x):\n",
        "        has = has + int(i)\n",
        "\n",
        "    if x % has == 0:\n",
        "        answer = True\n",
        "    else:\n",
        "        answer = False\n",
        "    return answer"
      ],
      "metadata": {
        "id": "a7bTo-BXK95T"
      },
      "execution_count": null,
      "outputs": []
    },
    {
      "cell_type": "code",
      "source": [
        "solution(10)"
      ],
      "metadata": {
        "colab": {
          "base_uri": "https://localhost:8080/"
        },
        "id": "uqHtBRwPbbpf",
        "outputId": "c0144ba4-2003-46f4-e593-53549ae28fe4"
      },
      "execution_count": null,
      "outputs": [
        {
          "output_type": "execute_result",
          "data": {
            "text/plain": [
              "True"
            ]
          },
          "metadata": {},
          "execution_count": 37
        }
      ]
    },
    {
      "cell_type": "code",
      "source": [
        "# 추천풀이\n",
        "def har(x):\n",
        "    return x % sum(int(i) for i in str(x)) == 0"
      ],
      "metadata": {
        "id": "WCKFJvbrblNa"
      },
      "execution_count": null,
      "outputs": []
    },
    {
      "cell_type": "code",
      "source": [
        "har(10)"
      ],
      "metadata": {
        "colab": {
          "base_uri": "https://localhost:8080/"
        },
        "id": "WV144pc8ceY1",
        "outputId": "4f858cd5-fe1e-45a4-c434-7136769e75ab"
      },
      "execution_count": null,
      "outputs": [
        {
          "output_type": "execute_result",
          "data": {
            "text/plain": [
              "True"
            ]
          },
          "metadata": {},
          "execution_count": 39
        }
      ]
    },
    {
      "cell_type": "markdown",
      "source": [
        "# 13번 / 두 정수 사이의 합\n",
        "제출 내역\n",
        "문제 설명\n",
        "두 정수 a, b가 주어졌을 때 a와 b 사이에 속한 모든 정수의 합을 리턴하는 함수, solution을 완성하세요.\n",
        "예를 들어 a = 3, b = 5인 경우, 3 + 4 + 5 = 12이므로 12를 리턴합니다.\n",
        "\n",
        "제한 조건\n",
        "a와 b가 같은 경우는 둘 중 아무 수나 리턴하세요.\n",
        "a와 b는 -10,000,000 이상 10,000,000 이하인 정수입니다.\n",
        "a와 b의 대소관계는 정해져있지 않습니다."
      ],
      "metadata": {
        "id": "SMezynjscwHs"
      }
    },
    {
      "cell_type": "code",
      "source": [
        "def solution(a, b):\n",
        "    if a < b:\n",
        "        answer = sum(range(a,b+1))\n",
        "    else:\n",
        "        answer = sum(range(b,a+1))\n",
        "    return answer"
      ],
      "metadata": {
        "id": "YDmYZtt8dVLn"
      },
      "execution_count": null,
      "outputs": []
    },
    {
      "cell_type": "code",
      "source": [
        "solution(5,3)"
      ],
      "metadata": {
        "colab": {
          "base_uri": "https://localhost:8080/"
        },
        "id": "bnEM49Zgfh-6",
        "outputId": "dfe63dc8-71a8-439d-91c5-21f8edefbf97"
      },
      "execution_count": null,
      "outputs": [
        {
          "output_type": "execute_result",
          "data": {
            "text/plain": [
              "12"
            ]
          },
          "metadata": {},
          "execution_count": 41
        }
      ]
    },
    {
      "cell_type": "code",
      "source": [
        "# 추천풀이\n",
        "def solution(a, b):\n",
        "    return sum(range(a,b+1) if a <= b else range(b,a+1))\n",
        "solution(5,3)"
      ],
      "metadata": {
        "colab": {
          "base_uri": "https://localhost:8080/"
        },
        "id": "9hhpuNz6fjta",
        "outputId": "bce54ba9-cfbd-4981-a13e-ef88d8767a1c"
      },
      "execution_count": null,
      "outputs": [
        {
          "output_type": "execute_result",
          "data": {
            "text/plain": [
              "12"
            ]
          },
          "metadata": {},
          "execution_count": 42
        }
      ]
    },
    {
      "cell_type": "markdown",
      "source": [
        "# 14번 / 음양 더하기\n",
        "\n",
        "문제 설명\n",
        "어떤 정수들이 있습니다. 이 정수들의 절댓값을 차례대로 담은 정수 배열 absolutes와 이 정수들의 부호를 차례대로 담은 불리언 배열 signs가 매개변수로 주어집니다. 실제 정수들의 합을 구하여 return 하도록 solution 함수를 완성해주세요.\n",
        "\n",
        "제한사항\n",
        "absolutes의 길이는 1 이상 1,000 이하입니다.\n",
        "absolutes의 모든 수는 각각 1 이상 1,000 이하입니다.\n",
        "signs의 길이는 absolutes의 길이와 같습니다.\n",
        "signs[i] 가 참이면 absolutes[i] 의 실제 정수가 양수임을, 그렇지 않으면 음수임을 의미합니다.\n",
        "입출력 예\n",
        "absolutes\tsigns\tresult\n",
        "[4,7,12]\t[true,false,true]\t9\n",
        "[1,2,3]\t[false,false,true]\t0\n",
        "입출력 예 설명\n",
        "입출력 예 #1\n",
        "\n",
        "signs가 [true,false,true] 이므로, 실제 수들의 값은 각각 4, -7, 12입니다.\n",
        "따라서 세 수의 합인 9를 return 해야 합니다.\n",
        "입출력 예 #2\n",
        "\n",
        "signs가 [false,false,true] 이므로, 실제 수들의 값은 각각 -1, -2, 3입니다.\n",
        "따라서 세 수의 합인 0을 return 해야 합니다."
      ],
      "metadata": {
        "id": "pQ-H1IAyfzWF"
      }
    },
    {
      "cell_type": "code",
      "source": [
        "def solution(absolutes, signs):\n",
        "    li1 = []\n",
        "    for i,j in zip(absolutes, signs):\n",
        "        if j:\n",
        "            li1.append(+i)\n",
        "        else:\n",
        "            li1.append(-i)\n",
        "    answer = sum(li1)\n",
        "    return answer"
      ],
      "metadata": {
        "id": "S8veKjW9f7U9"
      },
      "execution_count": null,
      "outputs": []
    },
    {
      "cell_type": "code",
      "source": [
        "absolutes = [4,7,12]\n",
        "signs = [True,False,True]\n",
        "solution(absolutes, signs)"
      ],
      "metadata": {
        "colab": {
          "base_uri": "https://localhost:8080/"
        },
        "id": "g3bpuYS6hjXz",
        "outputId": "60658128-c64d-429b-f3a6-0a550d25abc7"
      },
      "execution_count": null,
      "outputs": [
        {
          "output_type": "execute_result",
          "data": {
            "text/plain": [
              "9"
            ]
          },
          "metadata": {},
          "execution_count": 44
        }
      ]
    },
    {
      "cell_type": "code",
      "source": [
        "# 추천풀이\n",
        "def solution(absolutes, signs):\n",
        "    return sum(a if s else -a for a,s in zip(absolutes,signs))\n",
        "solution(absolutes, signs)"
      ],
      "metadata": {
        "colab": {
          "base_uri": "https://localhost:8080/"
        },
        "id": "o2-hLnEQhtCl",
        "outputId": "290bdd37-e6c3-435c-b429-2028c28be0ae"
      },
      "execution_count": null,
      "outputs": [
        {
          "output_type": "execute_result",
          "data": {
            "text/plain": [
              "9"
            ]
          },
          "metadata": {},
          "execution_count": 45
        }
      ]
    },
    {
      "cell_type": "markdown",
      "source": [
        "# 15번 / 서울에서 김서방 찾기\n",
        "\n",
        "문제 설명\n",
        "String형 배열 seoul의 element중 \"Kim\"의 위치 x를 찾아, \"김서방은 x에 있다\"는 String을 반환하는 함수, solution을 완성하세요. seoul에 \"Kim\"은 오직 한 번만 나타나며 잘못된 값이 입력되는 경우는 없습니다.\n",
        "\n",
        "제한 사항\n",
        "seoul은 길이 1 이상, 1000 이하인 배열입니다.\n",
        "seoul의 원소는 길이 1 이상, 20 이하인 문자열입니다.\n",
        "\"Kim\"은 반드시 seoul 안에 포함되어 있습니다.\n",
        "입출력 예\n",
        "seoul\treturn\n",
        "[\"Jane\", \"Kim\"]\t\"김서방은 1에 있다\""
      ],
      "metadata": {
        "id": "tmATuTo2kONY"
      }
    },
    {
      "cell_type": "code",
      "source": [
        "def solution(seoul):\n",
        "    for i in range(len(seoul)):\n",
        "        if seoul[i] == 'Kim':\n",
        "            index = i\n",
        "        else:\n",
        "            pass\n",
        "    return f'김서방은 {index}에 있다'"
      ],
      "metadata": {
        "id": "LleC7DbDlBms"
      },
      "execution_count": null,
      "outputs": []
    },
    {
      "cell_type": "code",
      "source": [
        "seoul = [\"Jane\", \"Kim\"]\n",
        "solution(seoul)"
      ],
      "metadata": {
        "colab": {
          "base_uri": "https://localhost:8080/",
          "height": 36
        },
        "id": "cbnxlGuvlDwp",
        "outputId": "ed239e3f-5e1c-42a7-d710-28740a0ba884"
      },
      "execution_count": null,
      "outputs": [
        {
          "output_type": "execute_result",
          "data": {
            "text/plain": [
              "'김서방은 1에 있다'"
            ],
            "application/vnd.google.colaboratory.intrinsic+json": {
              "type": "string"
            }
          },
          "metadata": {},
          "execution_count": 47
        }
      ]
    },
    {
      "cell_type": "code",
      "source": [
        "# 추천풀이\n",
        "def solution(seoul):\n",
        "    idx = seoul.index(\"Kim\")\n",
        "    return f'김서방은 {idx}에 있다'"
      ],
      "metadata": {
        "id": "iFL2makFlUHO"
      },
      "execution_count": null,
      "outputs": []
    },
    {
      "cell_type": "code",
      "source": [
        "solution(seoul)"
      ],
      "metadata": {
        "colab": {
          "base_uri": "https://localhost:8080/",
          "height": 36
        },
        "id": "_Nh9h8DlmgHg",
        "outputId": "adf10708-fac2-4f51-fdb9-46d3aa36107d"
      },
      "execution_count": null,
      "outputs": [
        {
          "output_type": "execute_result",
          "data": {
            "text/plain": [
              "'김서방은 1에 있다'"
            ],
            "application/vnd.google.colaboratory.intrinsic+json": {
              "type": "string"
            }
          },
          "metadata": {},
          "execution_count": 49
        }
      ]
    },
    {
      "cell_type": "markdown",
      "source": [
        "# 16번 / 콜라츠 추측\n",
        "\n",
        "문제 설명\n",
        "1937년 Collatz란 사람에 의해 제기된 이 추측은, 주어진 수가 1이 될 때까지 다음 작업을 반복하면, 모든 수를 1로 만들 수 있다는 추측입니다. 작업은 다음과 같습니다.\n",
        "\n",
        "1-1. 입력된 수가 짝수라면 2로 나눕니다.\n",
        "1-2. 입력된 수가 홀수라면 3을 곱하고 1을 더합니다.\n",
        "2. 결과로 나온 수에 같은 작업을 1이 될 때까지 반복합니다.\n",
        "예를 들어, 주어진 수가 6이라면 6 → 3 → 10 → 5 → 16 → 8 → 4 → 2 → 1 이 되어 총 8번 만에 1이 됩니다. 위 작업을 몇 번이나 반복해야 하는지 반환하는 함수, solution을 완성해 주세요. 단, 주어진 수가 1인 경우에는 0을, 작업을 500번 반복할 때까지 1이 되지 않는다면 –1을 반환해 주세요.\n",
        "\n",
        "제한 사항\n",
        "입력된 수, num은 1 이상 8,000,000 미만인 정수입니다.\n",
        "입출력 예\n",
        "n\tresult\n",
        "6\t8\n",
        "16\t4\n",
        "626331\t-1\n",
        "입출력 예 설명\n",
        "입출력 예 #1\n",
        "문제의 설명과 같습니다.\n",
        "\n",
        "입출력 예 #2\n",
        "16 → 8 → 4 → 2 → 1 이 되어 총 4번 만에 1이 됩니다.\n",
        "\n",
        "입출력 예 #3\n",
        "626331은 500번을 시도해도 1이 되지 못하므로 -1을 리턴해야 합니다.\n",
        "\n",
        "※ 공지 - 2022년 6월 10일 다음과 같이 지문이 일부 수정되었습니다.\n",
        "\n",
        "주어진 수가 1인 경우에 대한 조건 추가"
      ],
      "metadata": {
        "id": "pEFnUoIPj2ht"
      }
    },
    {
      "cell_type": "code",
      "source": [
        "def solution(num):\n",
        "    count = 0\n",
        "    while count < 500:\n",
        "        if num % 2 == 0:\n",
        "            num = num / 2\n",
        "        elif num == 1:\n",
        "            break\n",
        "        elif num % 2 == 1:\n",
        "            num = (num * 3) + 1\n",
        "        count += 1\n",
        "    return count if count < 500 else -1"
      ],
      "metadata": {
        "id": "-pMvJJ5hkA5y"
      },
      "execution_count": null,
      "outputs": []
    },
    {
      "cell_type": "code",
      "source": [
        "solution(626331)"
      ],
      "metadata": {
        "colab": {
          "base_uri": "https://localhost:8080/"
        },
        "id": "iUjDl51rh8vG",
        "outputId": "6d5229df-7fdd-4903-e4e1-8aeca6412b45"
      },
      "execution_count": null,
      "outputs": [
        {
          "output_type": "execute_result",
          "data": {
            "text/plain": [
              "-1"
            ]
          },
          "metadata": {},
          "execution_count": 4
        }
      ]
    },
    {
      "cell_type": "markdown",
      "source": [
        "# 17번 / 없는 숫자 더하기\n",
        "\n",
        "문제 설명\n",
        "0부터 9까지의 숫자 중 일부가 들어있는 정수 배열 numbers가 매개변수로 주어집니다. numbers에서 찾을 수 없는 0부터 9까지의 숫자를 모두 찾아 더한 수를 return 하도록 solution 함수를 완성해주세요.\n",
        "\n",
        "제한사항\n",
        "1 ≤ numbers의 길이 ≤ 9\n",
        "0 ≤ numbers의 모든 원소 ≤ 9\n",
        "numbers의 모든 원소는 서로 다릅니다.\n",
        "입출력 예\n",
        "numbers\tresult\n",
        "[1,2,3,4,6,7,8,0]\t14\n",
        "[5,8,4,0,6,7,9]\t6\n",
        "입출력 예 설명\n",
        "입출력 예 #1\n",
        "\n",
        "5, 9가 numbers에 없으므로, 5 + 9 = 14를 return 해야 합니다.\n",
        "입출력 예 #2\n",
        "\n",
        "1, 2, 3이 numbers에 없으므로, 1 + 2 + 3 = 6을 return 해야 합니다."
      ],
      "metadata": {
        "id": "cif4ZoJ5h92j"
      }
    },
    {
      "cell_type": "code",
      "source": [
        "def solution(numbers):\n",
        "    return sum(i for i in range(10) if i not in numbers)"
      ],
      "metadata": {
        "id": "cynK9WJIIkCR"
      },
      "execution_count": null,
      "outputs": []
    },
    {
      "cell_type": "code",
      "source": [
        "numbers = [1,2,3,4,6,7,8,0]\n",
        "solution(numbers)"
      ],
      "metadata": {
        "colab": {
          "base_uri": "https://localhost:8080/"
        },
        "id": "Nhvv66JGIkce",
        "outputId": "384209c8-e4e7-45e7-c93a-50f06af95e32"
      },
      "execution_count": null,
      "outputs": [
        {
          "output_type": "execute_result",
          "data": {
            "text/plain": [
              "14"
            ]
          },
          "metadata": {},
          "execution_count": 10
        }
      ]
    },
    {
      "cell_type": "markdown",
      "source": [
        "# 18번 / 나누어 떨어지는 숫자 배열\n",
        "\n",
        "문제 설명\n",
        "array의 각 element 중 divisor로 나누어 떨어지는 값을 오름차순으로 정렬한 배열을 반환하는 함수, solution을 작성해주세요.\n",
        "divisor로 나누어 떨어지는 element가 하나도 없다면 배열에 -1을 담아 반환하세요.\n",
        "\n",
        "제한사항\n",
        "arr은 자연수를 담은 배열입니다.\n",
        "정수 i, j에 대해 i ≠ j 이면 arr[i] ≠ arr[j] 입니다.\n",
        "divisor는 자연수입니다.\n",
        "array는 길이 1 이상인 배열입니다.\n",
        "입출력 예\n",
        "arr\tdivisor\treturn\n",
        "[5, 9, 7, 10]\t5\t[5, 10]\n",
        "[2, 36, 1, 3]\t1\t[1, 2, 3, 36]\n",
        "[3,2,6]\t10\t[-1]\n",
        "입출력 예 설명\n",
        "입출력 예#1\n",
        "arr의 원소 중 5로 나누어 떨어지는 원소는 5와 10입니다. 따라서 [5, 10]을 리턴합니다.\n",
        "\n",
        "입출력 예#2\n",
        "arr의 모든 원소는 1으로 나누어 떨어집니다. 원소를 오름차순으로 정렬해 [1, 2, 3, 36]을 리턴합니다.\n",
        "\n",
        "입출력 예#3\n",
        "3, 2, 6은 10으로 나누어 떨어지지 않습니다. 나누어 떨어지는 원소가 없으므로 [-1]을 리턴합니다."
      ],
      "metadata": {
        "id": "4qmbSvq-KQDH"
      }
    },
    {
      "cell_type": "code",
      "source": [
        "def solution(arr, divisor):\n",
        "    li1 = []\n",
        "    for i in arr:\n",
        "        if i % divisor == 0:\n",
        "            li1.append(i)\n",
        "        else:\n",
        "            pass\n",
        "    if len(li1) == 0:\n",
        "        li1.append(-1)\n",
        "    li1.sort()\n",
        "    return li1"
      ],
      "metadata": {
        "id": "zoueHVO-KVJ_"
      },
      "execution_count": null,
      "outputs": []
    },
    {
      "cell_type": "code",
      "source": [
        "solution([5, 9, 7, 10],\t5)"
      ],
      "metadata": {
        "colab": {
          "base_uri": "https://localhost:8080/"
        },
        "id": "ezCSbRWSLvYk",
        "outputId": "f7b673ec-de21-4f04-b0c6-97e1fd6a723b"
      },
      "execution_count": null,
      "outputs": [
        {
          "output_type": "execute_result",
          "data": {
            "text/plain": [
              "[5, 10]"
            ]
          },
          "metadata": {},
          "execution_count": 14
        }
      ]
    },
    {
      "cell_type": "code",
      "source": [
        "# 추천풀이\n",
        "def solution(arr, divisor):\n",
        "    return sorted([n for n in arr if n%divisor == 0]) or [-1]\n",
        "solution([5, 9, 7, 10],\t5)"
      ],
      "metadata": {
        "colab": {
          "base_uri": "https://localhost:8080/"
        },
        "id": "50XJHhh_LOsO",
        "outputId": "40ef2d30-dfa5-4075-cc92-69d173394799"
      },
      "execution_count": null,
      "outputs": [
        {
          "output_type": "execute_result",
          "data": {
            "text/plain": [
              "[5, 10]"
            ]
          },
          "metadata": {},
          "execution_count": 15
        }
      ]
    },
    {
      "cell_type": "markdown",
      "source": [
        "# 19번 / 핸드폰 번호 가리기\n",
        "\n",
        "문제 설명\n",
        "프로그래머스 모바일은 개인정보 보호를 위해 고지서를 보낼 때 고객들의 전화번호의 일부를 가립니다.\n",
        "전화번호가 문자열 phone_number로 주어졌을 때, 전화번호의 뒷 4자리를 제외한 나머지 숫자를 전부 *으로 가린 문자열을 리턴하는 함수, solution을 완성해주세요.\n",
        "\n",
        "제한 조건\n",
        "phone_number는 길이 4 이상, 20이하인 문자열입니다.\n",
        "입출력 예\n",
        "phone_number\treturn\n",
        "\"01033334444\"\t\"*******4444\"\n",
        "\"027778888\"\t\"*****8888\""
      ],
      "metadata": {
        "id": "4StrSXqcmhqt"
      }
    },
    {
      "cell_type": "code",
      "source": [
        "def solution(phone_number):\n",
        "    blur = '*' * (len(phone_number)-4)\n",
        "    digit = str(phone_number)[-4:]\n",
        "    answer = blur + digit\n",
        "    return answer"
      ],
      "metadata": {
        "id": "8yExJdC2nQY0"
      },
      "execution_count": null,
      "outputs": []
    },
    {
      "cell_type": "code",
      "source": [
        "phone_number = \"01033334444\"\n",
        "solution(phone_number)"
      ],
      "metadata": {
        "colab": {
          "base_uri": "https://localhost:8080/",
          "height": 36
        },
        "id": "dTgsVyYOp9re",
        "outputId": "254b2cb6-aa4f-41fb-93fb-e9f1179769ce"
      },
      "execution_count": null,
      "outputs": [
        {
          "output_type": "execute_result",
          "data": {
            "text/plain": [
              "'*******4444'"
            ],
            "application/vnd.google.colaboratory.intrinsic+json": {
              "type": "string"
            }
          },
          "metadata": {},
          "execution_count": 51
        }
      ]
    },
    {
      "cell_type": "code",
      "source": [
        "# 추천코드\n",
        "def blur_digits(phone_number):\n",
        "    return ('*' * (len(phone_number)-4)) + phone_number[-4:]\n",
        "blur_digits(phone_number)"
      ],
      "metadata": {
        "colab": {
          "base_uri": "https://localhost:8080/",
          "height": 36
        },
        "id": "Gr63nLuNqJQp",
        "outputId": "27ab1373-1885-4461-fd4f-d266661aa6f4"
      },
      "execution_count": null,
      "outputs": [
        {
          "output_type": "execute_result",
          "data": {
            "text/plain": [
              "'*******4444'"
            ],
            "application/vnd.google.colaboratory.intrinsic+json": {
              "type": "string"
            }
          },
          "metadata": {},
          "execution_count": 52
        }
      ]
    },
    {
      "cell_type": "markdown",
      "source": [
        "# 20번 / 제일 작은 수 제거하기\n",
        "\n",
        "문제 설명\n",
        "정수를 저장한 배열, arr 에서 가장 작은 수를 제거한 배열을 리턴하는 함수, solution을 완성해주세요. 단, 리턴하려는 배열이 빈 배열인 경우엔 배열에 -1을 채워 리턴하세요. 예를들어 arr이 [4,3,2,1]인 경우는 [4,3,2]를 리턴 하고, [10]면 [-1]을 리턴 합니다.\n",
        "\n",
        "제한 조건\n",
        "arr은 길이 1 이상인 배열입니다.\n",
        "인덱스 i, j에 대해 i ≠ j이면 arr[i] ≠ arr[j] 입니다.\n",
        "입출력 예\n",
        "arr\treturn\n",
        "[4,3,2,1]\t[4,3,2]\n",
        "[10]\t[-1]\n"
      ],
      "metadata": {
        "id": "jbj87Z8KrYdw"
      }
    },
    {
      "cell_type": "code",
      "source": [
        "def solution(arr):\n",
        "    return [i for i in arr if i > min(arr)] or [-1]"
      ],
      "metadata": {
        "id": "iGE_J5i1raQi"
      },
      "execution_count": null,
      "outputs": []
    },
    {
      "cell_type": "code",
      "source": [
        "solution([10])"
      ],
      "metadata": {
        "colab": {
          "base_uri": "https://localhost:8080/"
        },
        "id": "CAPcQKbGOJWc",
        "outputId": "702ba773-e612-4710-a171-a4323c61d830"
      },
      "execution_count": null,
      "outputs": [
        {
          "output_type": "execute_result",
          "data": {
            "text/plain": [
              "[-1]"
            ]
          },
          "metadata": {},
          "execution_count": 20
        }
      ]
    }
  ]
}